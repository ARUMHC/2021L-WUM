{
 "cells": [
  {
   "cell_type": "markdown",
   "metadata": {},
   "source": [
    "# Praca domowa 4"
   ]
  },
  {
   "cell_type": "code",
   "execution_count": 63,
   "metadata": {},
   "outputs": [],
   "source": [
    "import pandas as pd\n",
    "import rdata\n",
    "import matplotlib.pyplot as plt\n",
    "from scipy.stats import expon\n",
    "import numpy as np\n",
    "\n",
    "from sklearn.svm import SVR, SVC\n",
    "from sklearn.pipeline import Pipeline\n",
    "from sklearn.preprocessing import StandardScaler, OneHotEncoder, MinMaxScaler\n",
    "from sklearn.model_selection import train_test_split, RandomizedSearchCV\n",
    "from sklearn.compose import ColumnTransformer\n",
    "from sklearn.metrics import r2_score, mean_squared_error, accuracy_score\n",
    "from sklearn import datasets"
   ]
  },
  {
   "cell_type": "markdown",
   "metadata": {},
   "source": [
    "## Apartments dataset\n",
    "Za pomocą SVM zajmiemy się zadaniem regresji, a mianowicie będziemy przywidywać cenę metru kwadratowego mieszkania na podstawie reszty danych z ramki `apartments_df`.\n",
    "### Exploration"
   ]
  },
  {
   "cell_type": "code",
   "execution_count": 28,
   "metadata": {},
   "outputs": [
    {
     "data": {
      "text/html": [
       "<div>\n",
       "<style scoped>\n",
       "    .dataframe tbody tr th:only-of-type {\n",
       "        vertical-align: middle;\n",
       "    }\n",
       "\n",
       "    .dataframe tbody tr th {\n",
       "        vertical-align: top;\n",
       "    }\n",
       "\n",
       "    .dataframe thead th {\n",
       "        text-align: right;\n",
       "    }\n",
       "</style>\n",
       "<table border=\"1\" class=\"dataframe\">\n",
       "  <thead>\n",
       "    <tr style=\"text-align: right;\">\n",
       "      <th></th>\n",
       "      <th>m2.price</th>\n",
       "      <th>construction.year</th>\n",
       "      <th>surface</th>\n",
       "      <th>floor</th>\n",
       "      <th>no.rooms</th>\n",
       "      <th>district</th>\n",
       "    </tr>\n",
       "  </thead>\n",
       "  <tbody>\n",
       "    <tr>\n",
       "      <th>0</th>\n",
       "      <td>5897.0</td>\n",
       "      <td>1953.0</td>\n",
       "      <td>25.0</td>\n",
       "      <td>3</td>\n",
       "      <td>1.0</td>\n",
       "      <td>Srodmiescie</td>\n",
       "    </tr>\n",
       "    <tr>\n",
       "      <th>1</th>\n",
       "      <td>1818.0</td>\n",
       "      <td>1992.0</td>\n",
       "      <td>143.0</td>\n",
       "      <td>9</td>\n",
       "      <td>5.0</td>\n",
       "      <td>Bielany</td>\n",
       "    </tr>\n",
       "    <tr>\n",
       "      <th>2</th>\n",
       "      <td>3643.0</td>\n",
       "      <td>1937.0</td>\n",
       "      <td>56.0</td>\n",
       "      <td>1</td>\n",
       "      <td>2.0</td>\n",
       "      <td>Praga</td>\n",
       "    </tr>\n",
       "    <tr>\n",
       "      <th>3</th>\n",
       "      <td>3517.0</td>\n",
       "      <td>1995.0</td>\n",
       "      <td>93.0</td>\n",
       "      <td>7</td>\n",
       "      <td>3.0</td>\n",
       "      <td>Ochota</td>\n",
       "    </tr>\n",
       "    <tr>\n",
       "      <th>4</th>\n",
       "      <td>3013.0</td>\n",
       "      <td>1992.0</td>\n",
       "      <td>144.0</td>\n",
       "      <td>6</td>\n",
       "      <td>5.0</td>\n",
       "      <td>Mokotow</td>\n",
       "    </tr>\n",
       "  </tbody>\n",
       "</table>\n",
       "</div>"
      ],
      "text/plain": [
       "   m2.price  construction.year  surface  floor  no.rooms     district\n",
       "0    5897.0             1953.0     25.0      3       1.0  Srodmiescie\n",
       "1    1818.0             1992.0    143.0      9       5.0      Bielany\n",
       "2    3643.0             1937.0     56.0      1       2.0        Praga\n",
       "3    3517.0             1995.0     93.0      7       3.0       Ochota\n",
       "4    3013.0             1992.0    144.0      6       5.0      Mokotow"
      ]
     },
     "execution_count": 28,
     "metadata": {},
     "output_type": "execute_result"
    }
   ],
   "source": [
    "parsed = rdata.parser.parse_file(\"apartments.rda\")\n",
    "converted = rdata.conversion.convert(parsed)\n",
    "apartments_df = converted[\"apartments\"]\n",
    "apartments_df.head()"
   ]
  },
  {
   "cell_type": "code",
   "execution_count": 3,
   "metadata": {},
   "outputs": [
    {
     "name": "stdout",
     "output_type": "stream",
     "text": [
      "<class 'pandas.core.frame.DataFrame'>\n",
      "RangeIndex: 1000 entries, 0 to 999\n",
      "Data columns (total 6 columns):\n",
      " #   Column             Non-Null Count  Dtype   \n",
      "---  ------             --------------  -----   \n",
      " 0   m2.price           1000 non-null   float64 \n",
      " 1   construction.year  1000 non-null   float64 \n",
      " 2   surface            1000 non-null   float64 \n",
      " 3   floor              1000 non-null   int64   \n",
      " 4   no.rooms           1000 non-null   float64 \n",
      " 5   district           1000 non-null   category\n",
      "dtypes: category(1), float64(4), int64(1)\n",
      "memory usage: 40.6 KB\n"
     ]
    }
   ],
   "source": [
    "apartments_df.info()\n",
    "# nie ma braków\n",
    "# kolumna district jest kategoryczna, do niej zastosujemy one-hot encoding"
   ]
  },
  {
   "cell_type": "code",
   "execution_count": 4,
   "metadata": {},
   "outputs": [
    {
     "data": {
      "text/html": [
       "<div>\n",
       "<style scoped>\n",
       "    .dataframe tbody tr th:only-of-type {\n",
       "        vertical-align: middle;\n",
       "    }\n",
       "\n",
       "    .dataframe tbody tr th {\n",
       "        vertical-align: top;\n",
       "    }\n",
       "\n",
       "    .dataframe thead th {\n",
       "        text-align: right;\n",
       "    }\n",
       "</style>\n",
       "<table border=\"1\" class=\"dataframe\">\n",
       "  <thead>\n",
       "    <tr style=\"text-align: right;\">\n",
       "      <th></th>\n",
       "      <th>m2.price</th>\n",
       "      <th>construction.year</th>\n",
       "      <th>surface</th>\n",
       "      <th>floor</th>\n",
       "      <th>no.rooms</th>\n",
       "    </tr>\n",
       "  </thead>\n",
       "  <tbody>\n",
       "    <tr>\n",
       "      <th>count</th>\n",
       "      <td>1000.000000</td>\n",
       "      <td>1000.000000</td>\n",
       "      <td>1000.000000</td>\n",
       "      <td>1000.000000</td>\n",
       "      <td>1000.000000</td>\n",
       "    </tr>\n",
       "    <tr>\n",
       "      <th>mean</th>\n",
       "      <td>3487.019000</td>\n",
       "      <td>1964.823000</td>\n",
       "      <td>85.590000</td>\n",
       "      <td>5.623000</td>\n",
       "      <td>3.360000</td>\n",
       "    </tr>\n",
       "    <tr>\n",
       "      <th>std</th>\n",
       "      <td>906.691651</td>\n",
       "      <td>25.831511</td>\n",
       "      <td>37.874799</td>\n",
       "      <td>2.899876</td>\n",
       "      <td>1.381415</td>\n",
       "    </tr>\n",
       "    <tr>\n",
       "      <th>min</th>\n",
       "      <td>1607.000000</td>\n",
       "      <td>1920.000000</td>\n",
       "      <td>20.000000</td>\n",
       "      <td>1.000000</td>\n",
       "      <td>1.000000</td>\n",
       "    </tr>\n",
       "    <tr>\n",
       "      <th>25%</th>\n",
       "      <td>2857.000000</td>\n",
       "      <td>1943.000000</td>\n",
       "      <td>53.000000</td>\n",
       "      <td>3.000000</td>\n",
       "      <td>2.000000</td>\n",
       "    </tr>\n",
       "    <tr>\n",
       "      <th>50%</th>\n",
       "      <td>3386.000000</td>\n",
       "      <td>1965.000000</td>\n",
       "      <td>85.500000</td>\n",
       "      <td>6.000000</td>\n",
       "      <td>3.000000</td>\n",
       "    </tr>\n",
       "    <tr>\n",
       "      <th>75%</th>\n",
       "      <td>4018.250000</td>\n",
       "      <td>1988.000000</td>\n",
       "      <td>118.000000</td>\n",
       "      <td>8.000000</td>\n",
       "      <td>4.000000</td>\n",
       "    </tr>\n",
       "    <tr>\n",
       "      <th>max</th>\n",
       "      <td>6595.000000</td>\n",
       "      <td>2010.000000</td>\n",
       "      <td>150.000000</td>\n",
       "      <td>10.000000</td>\n",
       "      <td>6.000000</td>\n",
       "    </tr>\n",
       "  </tbody>\n",
       "</table>\n",
       "</div>"
      ],
      "text/plain": [
       "          m2.price  construction.year      surface        floor     no.rooms\n",
       "count  1000.000000        1000.000000  1000.000000  1000.000000  1000.000000\n",
       "mean   3487.019000        1964.823000    85.590000     5.623000     3.360000\n",
       "std     906.691651          25.831511    37.874799     2.899876     1.381415\n",
       "min    1607.000000        1920.000000    20.000000     1.000000     1.000000\n",
       "25%    2857.000000        1943.000000    53.000000     3.000000     2.000000\n",
       "50%    3386.000000        1965.000000    85.500000     6.000000     3.000000\n",
       "75%    4018.250000        1988.000000   118.000000     8.000000     4.000000\n",
       "max    6595.000000        2010.000000   150.000000    10.000000     6.000000"
      ]
     },
     "execution_count": 4,
     "metadata": {},
     "output_type": "execute_result"
    }
   ],
   "source": [
    "apartments_df.describe()"
   ]
  },
  {
   "cell_type": "markdown",
   "metadata": {},
   "source": [
    "### Train-test split"
   ]
  },
  {
   "cell_type": "code",
   "execution_count": 29,
   "metadata": {},
   "outputs": [],
   "source": [
    "X_train, X_test, y_train, y_test = train_test_split(apartments_df.drop(\"m2.price\", axis=1), \n",
    "                                                    apartments_df[\"m2.price\"], \n",
    "                                                    test_size=0.3, shuffle=True, random_state=42)"
   ]
  },
  {
   "cell_type": "markdown",
   "metadata": {},
   "source": [
    "### Modeling"
   ]
  },
  {
   "cell_type": "code",
   "execution_count": 41,
   "metadata": {},
   "outputs": [],
   "source": [
    "def get_scores(clf, X_test, y_test):\n",
    "    y_pred = clf.predict(X_test)\n",
    "    return (r2_score(y_test, y_pred), mean_squared_error(y_test, y_pred, squared=False))\n",
    "\n",
    "def modeling(X_train, y_train, scale=True, tune=True):\n",
    "    \n",
    "    params = dict({'clf__C': expon(scale = 100),\n",
    "              'clf__gamma': expon(scale = .1),\n",
    "              'clf__epsilon': expon(scale = 10)})\n",
    "    \n",
    "    ohe = OneHotEncoder(sparse=False)\n",
    "    columns_to_encode = [\"district\"]\n",
    "    \n",
    "    if scale:\n",
    "        scaler = StandardScaler()\n",
    "        columns_to_scale = list(filter(lambda x: x != \"district\", X_train.columns.to_list()))\n",
    "\n",
    "        pipeline = Pipeline(\n",
    "            [(\"coltransformer\", ColumnTransformer(\n",
    "                transformers=[\n",
    "                    (\"other\", Pipeline([(\"scale\", scaler)]), columns_to_scale),\n",
    "                    (\"district\", Pipeline([(\"encode\", ohe)]), columns_to_encode),\n",
    "                ]),\n",
    "            ),\n",
    "            (\"clf\", SVR(kernel=\"rbf\"))]\n",
    "        )    \n",
    "    else:\n",
    "        pipeline = Pipeline(\n",
    "            [(\"coltransformer\", ColumnTransformer(\n",
    "                transformers=[\n",
    "                    (\"district\", Pipeline([(\"encode\", ohe)]), columns_to_encode),\n",
    "                ]),\n",
    "            ),\n",
    "            (\"clf\", SVR(kernel=\"rbf\"))]\n",
    "        )\n",
    "    \n",
    "    if tune:\n",
    "        random_search = RandomizedSearchCV(pipeline, params, scoring=\"r2\", random_state=0, n_jobs=-1)\n",
    "        random_search.fit(X_train, y_train)\n",
    "        clf = random_search.best_estimator_\n",
    "    else:\n",
    "        clf = pipeline.fit(X_train, y_train)\n",
    "        \n",
    "    return clf\n",
    "\n",
    "def experiment(clf, X_train, X_test, y_train, y_test):\n",
    "    scale = [False, False, True, True]\n",
    "    tune = [False, True, False, True]\n",
    "    \n",
    "    res_merged = None\n",
    "    for i in range(4):\n",
    "        clf = modeling(X_train, y_train, scale[i], tune[i])\n",
    "        scores = get_scores(clf, X_test, y_test)\n",
    "        res = pd.DataFrame.from_dict({\"r2\": [scores[0]], \n",
    "                                     \"rmse\": [scores[1]],\n",
    "                                     \"scale\": [int(scale[i])],\n",
    "                                     \"tune\": [int(tune[i])]})\n",
    "        res_merged = pd.concat([res_merged, res], axis=0).reset_index(drop=True)\n",
    "        \n",
    "    return res_merged"
   ]
  },
  {
   "cell_type": "markdown",
   "metadata": {},
   "source": [
    "## Digits dataset\n",
    "Tutaj będziemy rozpoznawać cyfry, pisane przez ludzi, czyli klasyfikacja z wieloma klasami."
   ]
  },
  {
   "cell_type": "markdown",
   "metadata": {},
   "source": [
    "### Exploration"
   ]
  },
  {
   "cell_type": "code",
   "execution_count": 2,
   "metadata": {},
   "outputs": [
    {
     "data": {
      "image/png": "[encoded data removed]",
      "text/plain": [
       "<Figure size 720x216 with 4 Axes>"
      ]
     },
     "metadata": {
      "needs_background": "light"
     },
     "output_type": "display_data"
    }
   ],
   "source": [
    "digits = datasets.load_digits()\n",
    "\n",
    "_, axes = plt.subplots(nrows=1, ncols=4, figsize=(10, 3))\n",
    "for ax, image, label in zip(axes, digits.images, digits.target):\n",
    "    ax.set_axis_off()\n",
    "    ax.imshow(image, cmap=plt.cm.gray_r, interpolation='nearest')\n",
    "    ax.set_title('Example: %i' % label)"
   ]
  },
  {
   "cell_type": "code",
   "execution_count": 3,
   "metadata": {},
   "outputs": [
    {
     "data": {
      "image/png": "[encoded data removed]",
      "text/plain": [
       "<Figure size 432x288 with 1 Axes>"
      ]
     },
     "metadata": {
      "needs_background": "light"
     },
     "output_type": "display_data"
    }
   ],
   "source": [
    "target_df = pd.DataFrame.from_dict({\"target\": digits.target})\n",
    "target_df = target_df.groupby(\"target\").size().reset_index(name=\"cardinality\")\n",
    "\n",
    "fig, axes = plt.subplots(1, 1)\n",
    "axes.bar(target_df[\"target\"], height=target_df[\"cardinality\"])\n",
    "axes.set_xticks(np.arange(0, 10))\n",
    "axes.set_title(\"Cardinalities of target variable groups\")\n",
    "plt.show()\n",
    "# target jest zrównoważony"
   ]
  },
  {
   "cell_type": "markdown",
   "metadata": {},
   "source": [
    "### Train-test split"
   ]
  },
  {
   "cell_type": "code",
   "execution_count": 55,
   "metadata": {},
   "outputs": [],
   "source": [
    "n_samples = len(digits.images)\n",
    "data = digits.images.reshape((n_samples, -1))\n",
    "X_train2, X_test2, y_train2, y_test2 = train_test_split(data, \n",
    "                                                        digits.target, \n",
    "                                                        test_size=0.3, \n",
    "                                                        shuffle=True, random_state=42)\n",
    "X_train2, X_test2 = pd.DataFrame(X_train2), pd.DataFrame(X_test2)"
   ]
  },
  {
   "cell_type": "code",
   "execution_count": 56,
   "metadata": {},
   "outputs": [
    {
     "data": {
      "text/plain": [
       "(1257, 64)"
      ]
     },
     "execution_count": 56,
     "metadata": {},
     "output_type": "execute_result"
    }
   ],
   "source": [
    "X_train2.shape"
   ]
  },
  {
   "cell_type": "markdown",
   "metadata": {},
   "source": [
    "### Modeling"
   ]
  },
  {
   "cell_type": "code",
   "execution_count": 79,
   "metadata": {},
   "outputs": [],
   "source": [
    "def get_scores2(clf, X_test, y_test):\n",
    "    y_pred = clf.predict(X_test)\n",
    "    return accuracy_score(y_test, y_pred)\n",
    "\n",
    "def modeling2(X_train, y_train, scale=True, tune=True):\n",
    "    \n",
    "    params = dict({'clf__C': expon(scale = 100),\n",
    "              'clf__gamma': expon(scale = .1)})\n",
    "    \n",
    "    if scale:\n",
    "\n",
    "        model = Pipeline(\n",
    "            [(\"scaler\", MinMaxScaler()),\n",
    "            (\"clf\", SVC(kernel=\"rbf\"))])    \n",
    "    else:\n",
    "        model = Pipeline([(\"clf\", SVC(kernel=\"rbf\"))]) \n",
    "    \n",
    "    if tune:\n",
    "        random_search = RandomizedSearchCV(model, params, scoring=\"accuracy\", random_state=0, n_jobs=-1)\n",
    "        random_search.fit(X_train, y_train)\n",
    "        clf = random_search.best_estimator_\n",
    "    else:\n",
    "        clf = model.fit(X_train, y_train)\n",
    "        \n",
    "    return clf\n",
    "\n",
    "def experiment2(clf, X_train, X_test, y_train, y_test):\n",
    "    scale = [False, False, True, True]\n",
    "    tune = [False, True, False, True]\n",
    "    \n",
    "    res_merged = None\n",
    "    for i in range(4):\n",
    "        clf = modeling2(X_train, y_train, scale[i], tune[i])\n",
    "        score = get_scores2(clf, X_test, y_test)\n",
    "        res = pd.DataFrame.from_dict({\"accuracy\": [score],\n",
    "                                     \"scale\": [int(scale[i])],\n",
    "                                     \"tune\": [int(tune[i])]})\n",
    "        res_merged = pd.concat([res_merged, res], axis=0).reset_index(drop=True)\n",
    "        \n",
    "    return res_merged"
   ]
  },
  {
   "cell_type": "markdown",
   "metadata": {},
   "source": [
    "## Conclusion\n",
    "### Apartments dataset\n",
    "W tym zadaniu skalowanie było pomocne jedynie w przypadku strojenia hiperparametrów. "
   ]
  },
  {
   "cell_type": "code",
   "execution_count": 61,
   "metadata": {},
   "outputs": [
    {
     "data": {
      "text/html": [
       "<div>\n",
       "<style scoped>\n",
       "    .dataframe tbody tr th:only-of-type {\n",
       "        vertical-align: middle;\n",
       "    }\n",
       "\n",
       "    .dataframe tbody tr th {\n",
       "        vertical-align: top;\n",
       "    }\n",
       "\n",
       "    .dataframe thead th {\n",
       "        text-align: right;\n",
       "    }\n",
       "</style>\n",
       "<table border=\"1\" class=\"dataframe\">\n",
       "  <thead>\n",
       "    <tr style=\"text-align: right;\">\n",
       "      <th></th>\n",
       "      <th>r2</th>\n",
       "      <th>rmse</th>\n",
       "      <th>scale</th>\n",
       "      <th>tune</th>\n",
       "    </tr>\n",
       "  </thead>\n",
       "  <tbody>\n",
       "    <tr>\n",
       "      <th>0</th>\n",
       "      <td>0.024483</td>\n",
       "      <td>896.087514</td>\n",
       "      <td>0</td>\n",
       "      <td>0</td>\n",
       "    </tr>\n",
       "    <tr>\n",
       "      <th>1</th>\n",
       "      <td>0.599579</td>\n",
       "      <td>574.105088</td>\n",
       "      <td>0</td>\n",
       "      <td>1</td>\n",
       "    </tr>\n",
       "    <tr>\n",
       "      <th>2</th>\n",
       "      <td>0.015657</td>\n",
       "      <td>900.132022</td>\n",
       "      <td>1</td>\n",
       "      <td>0</td>\n",
       "    </tr>\n",
       "    <tr>\n",
       "      <th>3</th>\n",
       "      <td>0.945491</td>\n",
       "      <td>211.820607</td>\n",
       "      <td>1</td>\n",
       "      <td>1</td>\n",
       "    </tr>\n",
       "  </tbody>\n",
       "</table>\n",
       "</div>"
      ],
      "text/plain": [
       "         r2        rmse  scale  tune\n",
       "0  0.024483  896.087514      0     0\n",
       "1  0.599579  574.105088      0     1\n",
       "2  0.015657  900.132022      1     0\n",
       "3  0.945491  211.820607      1     1"
      ]
     },
     "execution_count": 61,
     "metadata": {},
     "output_type": "execute_result"
    }
   ],
   "source": [
    "experiment(clf, X_train, X_test, y_train, y_test)"
   ]
  },
  {
   "cell_type": "markdown",
   "metadata": {},
   "source": [
    "### Digits dataset\n",
    "Tutaj podobnie ważne było zastosowanie skalowania w przypadku strojenia, ale w przeciwieństwie do poprzedniego przykładu model z domyślnymi hiperparametrami sprawdził się dobrze bez względu na to, czy było skalowanie użyte. "
   ]
  },
  {
   "cell_type": "code",
   "execution_count": 80,
   "metadata": {},
   "outputs": [
    {
     "data": {
      "text/html": [
       "<div>\n",
       "<style scoped>\n",
       "    .dataframe tbody tr th:only-of-type {\n",
       "        vertical-align: middle;\n",
       "    }\n",
       "\n",
       "    .dataframe tbody tr th {\n",
       "        vertical-align: top;\n",
       "    }\n",
       "\n",
       "    .dataframe thead th {\n",
       "        text-align: right;\n",
       "    }\n",
       "</style>\n",
       "<table border=\"1\" class=\"dataframe\">\n",
       "  <thead>\n",
       "    <tr style=\"text-align: right;\">\n",
       "      <th></th>\n",
       "      <th>accuracy</th>\n",
       "      <th>scale</th>\n",
       "      <th>tune</th>\n",
       "    </tr>\n",
       "  </thead>\n",
       "  <tbody>\n",
       "    <tr>\n",
       "      <th>0</th>\n",
       "      <td>0.987037</td>\n",
       "      <td>0</td>\n",
       "      <td>0</td>\n",
       "    </tr>\n",
       "    <tr>\n",
       "      <th>1</th>\n",
       "      <td>0.787037</td>\n",
       "      <td>0</td>\n",
       "      <td>1</td>\n",
       "    </tr>\n",
       "    <tr>\n",
       "      <th>2</th>\n",
       "      <td>0.987037</td>\n",
       "      <td>1</td>\n",
       "      <td>0</td>\n",
       "    </tr>\n",
       "    <tr>\n",
       "      <th>3</th>\n",
       "      <td>0.988889</td>\n",
       "      <td>1</td>\n",
       "      <td>1</td>\n",
       "    </tr>\n",
       "  </tbody>\n",
       "</table>\n",
       "</div>"
      ],
      "text/plain": [
       "   accuracy  scale  tune\n",
       "0  0.987037      0     0\n",
       "1  0.787037      0     1\n",
       "2  0.987037      1     0\n",
       "3  0.988889      1     1"
      ]
     },
     "execution_count": 80,
     "metadata": {},
     "output_type": "execute_result"
    }
   ],
   "source": [
    "experiment2(clf, X_train2, X_test2, y_train2, y_test2)"
   ]
  }
 ],
 "metadata": {
  "kernelspec": {
   "display_name": "Python 3",
   "language": "python",
   "name": "python3"
  },
  "language_info": {
   "codemirror_mode": {
    "name": "ipython",
    "version": 3
   },
   "file_extension": ".py",
   "mimetype": "text/x-python",
   "name": "python",
   "nbconvert_exporter": "python",
   "pygments_lexer": "ipython3",
   "version": "3.8.3"
  }
 },
 "nbformat": 4,
 "nbformat_minor": 4
}
