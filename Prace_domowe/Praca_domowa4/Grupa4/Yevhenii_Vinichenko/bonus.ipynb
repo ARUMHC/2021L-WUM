{
 "cells": [
  {
   "cell_type": "markdown",
   "metadata": {},
   "source": [
    "# Bonus"
   ]
  },
  {
   "cell_type": "code",
   "execution_count": 35,
   "metadata": {},
   "outputs": [],
   "source": [
    "import pandas as pd\n",
    "import numpy as np\n",
    "\n",
    "from sklearn.model_selection import cross_validate\n",
    "from category_encoders import TargetEncoder\n",
    "from sklearn.pipeline import Pipeline\n",
    "from sklearn.linear_model import Ridge, Lasso, LinearRegression\n",
    "from sklearn.metrics import make_scorer, mean_squared_error, r2_score\n",
    "from sklearn.ensemble import GradientBoostingRegressor"
   ]
  },
  {
   "cell_type": "code",
   "execution_count": 2,
   "metadata": {},
   "outputs": [],
   "source": [
    "transactions_df = pd.read_csv(\"https://www.dropbox.com/s/360xhh2d9lnaek3/allegro-api-transactions.csv?dl=1\")"
   ]
  },
  {
   "cell_type": "code",
   "execution_count": 3,
   "metadata": {},
   "outputs": [
    {
     "data": {
      "text/html": [
       "<div>\n",
       "<style scoped>\n",
       "    .dataframe tbody tr th:only-of-type {\n",
       "        vertical-align: middle;\n",
       "    }\n",
       "\n",
       "    .dataframe tbody tr th {\n",
       "        vertical-align: top;\n",
       "    }\n",
       "\n",
       "    .dataframe thead th {\n",
       "        text-align: right;\n",
       "    }\n",
       "</style>\n",
       "<table border=\"1\" class=\"dataframe\">\n",
       "  <thead>\n",
       "    <tr style=\"text-align: right;\">\n",
       "      <th></th>\n",
       "      <th>main_category</th>\n",
       "      <th>categories</th>\n",
       "      <th>it_location</th>\n",
       "      <th>price</th>\n",
       "    </tr>\n",
       "  </thead>\n",
       "  <tbody>\n",
       "    <tr>\n",
       "      <th>0</th>\n",
       "      <td>Komputery</td>\n",
       "      <td>['Komputery', 'Dyski i napędy', 'Nośniki', 'No...</td>\n",
       "      <td>Warszawa</td>\n",
       "      <td>59.99</td>\n",
       "    </tr>\n",
       "    <tr>\n",
       "      <th>1</th>\n",
       "      <td>Odzież, Obuwie, Dodatki</td>\n",
       "      <td>['Odzież, Obuwie, Dodatki', 'Bielizna damska',...</td>\n",
       "      <td>Warszawa</td>\n",
       "      <td>4.90</td>\n",
       "    </tr>\n",
       "    <tr>\n",
       "      <th>2</th>\n",
       "      <td>Dom i Ogród</td>\n",
       "      <td>['Dom i Ogród', 'Budownictwo i Akcesoria', 'Śc...</td>\n",
       "      <td>Leszno</td>\n",
       "      <td>109.90</td>\n",
       "    </tr>\n",
       "    <tr>\n",
       "      <th>3</th>\n",
       "      <td>Książki i Komiksy</td>\n",
       "      <td>['Książki i Komiksy', 'Poradniki i albumy', 'Z...</td>\n",
       "      <td>Wola Krzysztoporska</td>\n",
       "      <td>18.50</td>\n",
       "    </tr>\n",
       "    <tr>\n",
       "      <th>4</th>\n",
       "      <td>Odzież, Obuwie, Dodatki</td>\n",
       "      <td>['Odzież, Obuwie, Dodatki', 'Ślub i wesele', '...</td>\n",
       "      <td>BIAŁYSTOK</td>\n",
       "      <td>19.90</td>\n",
       "    </tr>\n",
       "  </tbody>\n",
       "</table>\n",
       "</div>"
      ],
      "text/plain": [
       "             main_category                                         categories  \\\n",
       "0                Komputery  ['Komputery', 'Dyski i napędy', 'Nośniki', 'No...   \n",
       "1  Odzież, Obuwie, Dodatki  ['Odzież, Obuwie, Dodatki', 'Bielizna damska',...   \n",
       "2              Dom i Ogród  ['Dom i Ogród', 'Budownictwo i Akcesoria', 'Śc...   \n",
       "3        Książki i Komiksy  ['Książki i Komiksy', 'Poradniki i albumy', 'Z...   \n",
       "4  Odzież, Obuwie, Dodatki  ['Odzież, Obuwie, Dodatki', 'Ślub i wesele', '...   \n",
       "\n",
       "           it_location   price  \n",
       "0             Warszawa   59.99  \n",
       "1             Warszawa    4.90  \n",
       "2               Leszno  109.90  \n",
       "3  Wola Krzysztoporska   18.50  \n",
       "4            BIAŁYSTOK   19.90  "
      ]
     },
     "execution_count": 3,
     "metadata": {},
     "output_type": "execute_result"
    }
   ],
   "source": [
    "transactions_df = transactions_df[[\"main_category\", \"categories\", \"it_location\", \"price\"]]\n",
    "transactions_df.head()"
   ]
  },
  {
   "cell_type": "code",
   "execution_count": 4,
   "metadata": {},
   "outputs": [
    {
     "name": "stdout",
     "output_type": "stream",
     "text": [
      "<class 'pandas.core.frame.DataFrame'>\n",
      "RangeIndex: 420020 entries, 0 to 420019\n",
      "Data columns (total 4 columns):\n",
      " #   Column         Non-Null Count   Dtype  \n",
      "---  ------         --------------   -----  \n",
      " 0   main_category  420020 non-null  object \n",
      " 1   categories     420020 non-null  object \n",
      " 2   it_location    420020 non-null  object \n",
      " 3   price          420020 non-null  float64\n",
      "dtypes: float64(1), object(3)\n",
      "memory usage: 12.8+ MB\n"
     ]
    }
   ],
   "source": [
    "transactions_df[\"it_location\"] = pd.DataFrame(transactions_df[\"it_location\"].str.lower())\n",
    "transactions_df[\"it_location\"] = pd.DataFrame(transactions_df[\"categories\"].str.lower())\n",
    "transactions_df.info()"
   ]
  },
  {
   "cell_type": "markdown",
   "metadata": {},
   "source": [
    "## Modeling\n",
    "### Target encoding\n",
    "Poniższe informacje wzięte są z [https://maxhalford.github.io/blog/target-encoding/](https://maxhalford.github.io/blog/target-encoding/) .\n",
    "\n",
    "\n",
    "Użyjemy tutaj target encodingu z parametrem `smoothing`, dzięki czemu do kodowania zamiast zwykłej średniej targetu po grupach wykorzystana zostanie wartość $$\\frac{n \\times \\bar{x} + m \\times w}{n + m},$$\n",
    "gdzie\n",
    "- $n$ to liczność danej grupy,\n",
    "- $\\bar{x}$ to średnia targetu z danej grupy,\n",
    "- $w$ to ogólna średnia targetu,\n",
    "- $m$ to wartość `smoothing`($m \\in [0, \\infty)$).\n",
    "\n",
    "Taki encoding jest użyteczny, np. gdy wiele grup jest nielicznych. Wtedy sama średnia może z dużym błędem estymować wartość oczekiwaną targetu w tych grupach, więc pomocne może być uwzględnienie średniej ogólnej. Wartość `smoothing` określa jak bardzo polegamy na ogólnej średniej targetu.\n",
    "\n",
    "### Regularyzacja\n",
    "Polega na wprowadzeniu dodatkowego bias'u(błędu na danych treningowych), aby zmniejszyć variance(błąd na danych testowych). Jedne z najbardziej znanych technik to \n",
    "- `l1`(Lasso), kara w postaci kwadratu 2 normy wektora wag(z regresji liniowej),  \n",
    "- `l2`(Ridge), kara w postaci 1 normy wektora wag.\n",
    "\n",
    "Dane techniki użyteczne są np. przy obecności skorelowanych zmiennych lub mało istotnych cech."
   ]
  },
  {
   "cell_type": "code",
   "execution_count": 39,
   "metadata": {},
   "outputs": [],
   "source": [
    "X, y = transactions_df.drop(\"price\", axis=1), transactions_df[\"price\"]\n",
    "\n",
    "def get_scores(model, X, y):\n",
    "    scoring = {\n",
    "    \"r2\": make_scorer(r2_score),\n",
    "    \"rmse\": make_scorer(mean_squared_error, squared=False)\n",
    "    }\n",
    "    scores = cross_validate(model, X, y, \n",
    "                         scoring=scoring,\n",
    "                         cv=5,\n",
    "                         n_jobs=-1)\n",
    "    return scores\n",
    "\n",
    "\n",
    "def get_model(model_type):\n",
    "\n",
    "    if model_type == \"lasso\":\n",
    "        clf = Lasso()\n",
    "    elif model_type == \"ridge\":\n",
    "        clf = Ridge()\n",
    "    elif model_type == \"least_sq\":\n",
    "        clf = LinearRegression()\n",
    "    elif model_type == \"gbc\":\n",
    "        clf =  GradientBoostingRegressor()\n",
    "    else:\n",
    "        raise NameError(\"model type: \" + model_type + \" is unknown\")\n",
    "\n",
    "    pipeline =  Pipeline([(\"encoder\", TargetEncoder(smoothing=300)), (\"clf\", clf)])\n",
    "\n",
    "    return pipeline\n",
    "\n",
    "\n",
    "def experiment(X, y):\n",
    "    model_types = [\"least_sq\", \"lasso\", \"ridge\", \"gbc\"]\n",
    "    \n",
    "    res_merged = None\n",
    "    for i in range(len(model_types)):\n",
    "        model = get_model(model_types[i])\n",
    "        scores = get_scores(model, X, y)\n",
    "        res = pd.DataFrame.from_dict({\"model\": [model_types[i]],\n",
    "                                     \"r2_mean\": [np.mean(scores[\"test_r2\"])],\n",
    "                                     \"r2_std\": [np.std(scores[\"test_r2\"])],\n",
    "                                     \"rmse_mean\": [np.mean(scores[\"test_rmse\"])],\n",
    "                                     \"rmse_std\": [np.std(scores[\"test_rmse\"])]})\n",
    "        res_merged = pd.concat([res_merged, res], axis=0).reset_index(drop=True)\n",
    "        \n",
    "    return res_merged"
   ]
  },
  {
   "cell_type": "markdown",
   "metadata": {},
   "source": [
    "## Wnioski\n",
    "Wszystkie modele miały słabe wyniki. Najlepiej się sprawdził gradient boosting regressor(miał najwyższy `r2_score` i najniższe `rmse`). Miał on także najbardziej stabilne wyniki(najmniejsze odchylenie). Jeśli chodzi o regularyzację, to w danym zadaniu ona niestety nie pomogła."
   ]
  },
  {
   "cell_type": "code",
   "execution_count": 40,
   "metadata": {},
   "outputs": [
    {
     "data": {
      "text/html": [
       "<div>\n",
       "<style scoped>\n",
       "    .dataframe tbody tr th:only-of-type {\n",
       "        vertical-align: middle;\n",
       "    }\n",
       "\n",
       "    .dataframe tbody tr th {\n",
       "        vertical-align: top;\n",
       "    }\n",
       "\n",
       "    .dataframe thead th {\n",
       "        text-align: right;\n",
       "    }\n",
       "</style>\n",
       "<table border=\"1\" class=\"dataframe\">\n",
       "  <thead>\n",
       "    <tr style=\"text-align: right;\">\n",
       "      <th></th>\n",
       "      <th>model</th>\n",
       "      <th>r2_mean</th>\n",
       "      <th>r2_std</th>\n",
       "      <th>rmse_mean</th>\n",
       "      <th>rmse_std</th>\n",
       "    </tr>\n",
       "  </thead>\n",
       "  <tbody>\n",
       "    <tr>\n",
       "      <th>0</th>\n",
       "      <td>least_sq</td>\n",
       "      <td>0.129755</td>\n",
       "      <td>0.062184</td>\n",
       "      <td>359.396395</td>\n",
       "      <td>82.477539</td>\n",
       "    </tr>\n",
       "    <tr>\n",
       "      <th>1</th>\n",
       "      <td>lasso</td>\n",
       "      <td>0.129759</td>\n",
       "      <td>0.062185</td>\n",
       "      <td>359.395656</td>\n",
       "      <td>82.477432</td>\n",
       "    </tr>\n",
       "    <tr>\n",
       "      <th>2</th>\n",
       "      <td>ridge</td>\n",
       "      <td>0.129755</td>\n",
       "      <td>0.062184</td>\n",
       "      <td>359.396395</td>\n",
       "      <td>82.477539</td>\n",
       "    </tr>\n",
       "    <tr>\n",
       "      <th>3</th>\n",
       "      <td>gbc</td>\n",
       "      <td>0.168278</td>\n",
       "      <td>0.058741</td>\n",
       "      <td>351.094369</td>\n",
       "      <td>80.166762</td>\n",
       "    </tr>\n",
       "  </tbody>\n",
       "</table>\n",
       "</div>"
      ],
      "text/plain": [
       "      model   r2_mean    r2_std   rmse_mean   rmse_std\n",
       "0  least_sq  0.129755  0.062184  359.396395  82.477539\n",
       "1     lasso  0.129759  0.062185  359.395656  82.477432\n",
       "2     ridge  0.129755  0.062184  359.396395  82.477539\n",
       "3       gbc  0.168278  0.058741  351.094369  80.166762"
      ]
     },
     "execution_count": 40,
     "metadata": {},
     "output_type": "execute_result"
    }
   ],
   "source": [
    "experiment(X, y)"
   ]
  }
 ],
 "metadata": {
  "kernelspec": {
   "display_name": "Python 3",
   "language": "python",
   "name": "python3"
  },
  "language_info": {
   "codemirror_mode": {
    "name": "ipython",
    "version": 3
   },
   "file_extension": ".py",
   "mimetype": "text/x-python",
   "name": "python",
   "nbconvert_exporter": "python",
   "pygments_lexer": "ipython3",
   "version": "3.8.3"
  }
 },
 "nbformat": 4,
 "nbformat_minor": 4
}
