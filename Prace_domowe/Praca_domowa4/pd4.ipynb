{
 "cells": [
  {
   "cell_type": "markdown",
   "metadata": {},
   "source": [
    "# Praca domowa 4"
   ]
  },
  {
   "cell_type": "code",
   "execution_count": 128,
   "metadata": {},
   "outputs": [],
   "source": [
    "import pandas as pd\n",
    "import rdata\n",
    "import matplotlib.pyplot as plt\n",
    "from scipy.stats import expon\n",
    "\n",
    "from sklearn.svm import SVR, SVC\n",
    "from sklearn.pipeline import Pipeline\n",
    "from sklearn.preprocessing import StandardScaler, OneHotEncoder\n",
    "from sklearn.model_selection import train_test_split, RandomizedSearchCV\n",
    "from sklearn.compose import ColumnTransformer\n",
    "from sklearn.metrics import r2_score, mean_squared_error"
   ]
  },
  {
   "cell_type": "markdown",
   "metadata": {},
   "source": [
    "## Apartments dataset\n",
    "Za pomocą SVM zajmiemy się zadaniem regresji, a mianowicie będziemy przywidywać cenę metru kwadratowego mieszkania na podstawie reszty danych z ramki `apartments_df`.\n",
    "### Exploration"
   ]
  },
  {
   "cell_type": "code",
   "execution_count": 30,
   "metadata": {},
   "outputs": [
    {
     "data": {
      "text/html": [
       "<div>\n",
       "<style scoped>\n",
       "    .dataframe tbody tr th:only-of-type {\n",
       "        vertical-align: middle;\n",
       "    }\n",
       "\n",
       "    .dataframe tbody tr th {\n",
       "        vertical-align: top;\n",
       "    }\n",
       "\n",
       "    .dataframe thead th {\n",
       "        text-align: right;\n",
       "    }\n",
       "</style>\n",
       "<table border=\"1\" class=\"dataframe\">\n",
       "  <thead>\n",
       "    <tr style=\"text-align: right;\">\n",
       "      <th></th>\n",
       "      <th>m2.price</th>\n",
       "      <th>construction.year</th>\n",
       "      <th>surface</th>\n",
       "      <th>floor</th>\n",
       "      <th>no.rooms</th>\n",
       "      <th>district</th>\n",
       "    </tr>\n",
       "  </thead>\n",
       "  <tbody>\n",
       "    <tr>\n",
       "      <th>0</th>\n",
       "      <td>5897.0</td>\n",
       "      <td>1953.0</td>\n",
       "      <td>25.0</td>\n",
       "      <td>3</td>\n",
       "      <td>1.0</td>\n",
       "      <td>Srodmiescie</td>\n",
       "    </tr>\n",
       "    <tr>\n",
       "      <th>1</th>\n",
       "      <td>1818.0</td>\n",
       "      <td>1992.0</td>\n",
       "      <td>143.0</td>\n",
       "      <td>9</td>\n",
       "      <td>5.0</td>\n",
       "      <td>Bielany</td>\n",
       "    </tr>\n",
       "    <tr>\n",
       "      <th>2</th>\n",
       "      <td>3643.0</td>\n",
       "      <td>1937.0</td>\n",
       "      <td>56.0</td>\n",
       "      <td>1</td>\n",
       "      <td>2.0</td>\n",
       "      <td>Praga</td>\n",
       "    </tr>\n",
       "    <tr>\n",
       "      <th>3</th>\n",
       "      <td>3517.0</td>\n",
       "      <td>1995.0</td>\n",
       "      <td>93.0</td>\n",
       "      <td>7</td>\n",
       "      <td>3.0</td>\n",
       "      <td>Ochota</td>\n",
       "    </tr>\n",
       "    <tr>\n",
       "      <th>4</th>\n",
       "      <td>3013.0</td>\n",
       "      <td>1992.0</td>\n",
       "      <td>144.0</td>\n",
       "      <td>6</td>\n",
       "      <td>5.0</td>\n",
       "      <td>Mokotow</td>\n",
       "    </tr>\n",
       "  </tbody>\n",
       "</table>\n",
       "</div>"
      ],
      "text/plain": [
       "   m2.price  construction.year  surface  floor  no.rooms     district\n",
       "0    5897.0             1953.0     25.0      3       1.0  Srodmiescie\n",
       "1    1818.0             1992.0    143.0      9       5.0      Bielany\n",
       "2    3643.0             1937.0     56.0      1       2.0        Praga\n",
       "3    3517.0             1995.0     93.0      7       3.0       Ochota\n",
       "4    3013.0             1992.0    144.0      6       5.0      Mokotow"
      ]
     },
     "execution_count": 30,
     "metadata": {},
     "output_type": "execute_result"
    }
   ],
   "source": [
    "parsed = rdata.parser.parse_file(\"apartments.rda\")\n",
    "converted = rdata.conversion.convert(parsed)\n",
    "apartments_df = converted[\"apartments\"]\n",
    "apartments_df.head()"
   ]
  },
  {
   "cell_type": "code",
   "execution_count": 3,
   "metadata": {},
   "outputs": [
    {
     "name": "stdout",
     "output_type": "stream",
     "text": [
      "<class 'pandas.core.frame.DataFrame'>\n",
      "RangeIndex: 1000 entries, 0 to 999\n",
      "Data columns (total 6 columns):\n",
      " #   Column             Non-Null Count  Dtype   \n",
      "---  ------             --------------  -----   \n",
      " 0   m2.price           1000 non-null   float64 \n",
      " 1   construction.year  1000 non-null   float64 \n",
      " 2   surface            1000 non-null   float64 \n",
      " 3   floor              1000 non-null   int64   \n",
      " 4   no.rooms           1000 non-null   float64 \n",
      " 5   district           1000 non-null   category\n",
      "dtypes: category(1), float64(4), int64(1)\n",
      "memory usage: 40.6 KB\n"
     ]
    }
   ],
   "source": [
    "apartments_df.info()\n",
    "# nie ma braków\n",
    "# kolumna district jest kategoryczna, do niej zastosujemy one-hot encoding"
   ]
  },
  {
   "cell_type": "code",
   "execution_count": 4,
   "metadata": {},
   "outputs": [
    {
     "data": {
      "text/html": [
       "<div>\n",
       "<style scoped>\n",
       "    .dataframe tbody tr th:only-of-type {\n",
       "        vertical-align: middle;\n",
       "    }\n",
       "\n",
       "    .dataframe tbody tr th {\n",
       "        vertical-align: top;\n",
       "    }\n",
       "\n",
       "    .dataframe thead th {\n",
       "        text-align: right;\n",
       "    }\n",
       "</style>\n",
       "<table border=\"1\" class=\"dataframe\">\n",
       "  <thead>\n",
       "    <tr style=\"text-align: right;\">\n",
       "      <th></th>\n",
       "      <th>m2.price</th>\n",
       "      <th>construction.year</th>\n",
       "      <th>surface</th>\n",
       "      <th>floor</th>\n",
       "      <th>no.rooms</th>\n",
       "    </tr>\n",
       "  </thead>\n",
       "  <tbody>\n",
       "    <tr>\n",
       "      <th>count</th>\n",
       "      <td>1000.000000</td>\n",
       "      <td>1000.000000</td>\n",
       "      <td>1000.000000</td>\n",
       "      <td>1000.000000</td>\n",
       "      <td>1000.000000</td>\n",
       "    </tr>\n",
       "    <tr>\n",
       "      <th>mean</th>\n",
       "      <td>3487.019000</td>\n",
       "      <td>1964.823000</td>\n",
       "      <td>85.590000</td>\n",
       "      <td>5.623000</td>\n",
       "      <td>3.360000</td>\n",
       "    </tr>\n",
       "    <tr>\n",
       "      <th>std</th>\n",
       "      <td>906.691651</td>\n",
       "      <td>25.831511</td>\n",
       "      <td>37.874799</td>\n",
       "      <td>2.899876</td>\n",
       "      <td>1.381415</td>\n",
       "    </tr>\n",
       "    <tr>\n",
       "      <th>min</th>\n",
       "      <td>1607.000000</td>\n",
       "      <td>1920.000000</td>\n",
       "      <td>20.000000</td>\n",
       "      <td>1.000000</td>\n",
       "      <td>1.000000</td>\n",
       "    </tr>\n",
       "    <tr>\n",
       "      <th>25%</th>\n",
       "      <td>2857.000000</td>\n",
       "      <td>1943.000000</td>\n",
       "      <td>53.000000</td>\n",
       "      <td>3.000000</td>\n",
       "      <td>2.000000</td>\n",
       "    </tr>\n",
       "    <tr>\n",
       "      <th>50%</th>\n",
       "      <td>3386.000000</td>\n",
       "      <td>1965.000000</td>\n",
       "      <td>85.500000</td>\n",
       "      <td>6.000000</td>\n",
       "      <td>3.000000</td>\n",
       "    </tr>\n",
       "    <tr>\n",
       "      <th>75%</th>\n",
       "      <td>4018.250000</td>\n",
       "      <td>1988.000000</td>\n",
       "      <td>118.000000</td>\n",
       "      <td>8.000000</td>\n",
       "      <td>4.000000</td>\n",
       "    </tr>\n",
       "    <tr>\n",
       "      <th>max</th>\n",
       "      <td>6595.000000</td>\n",
       "      <td>2010.000000</td>\n",
       "      <td>150.000000</td>\n",
       "      <td>10.000000</td>\n",
       "      <td>6.000000</td>\n",
       "    </tr>\n",
       "  </tbody>\n",
       "</table>\n",
       "</div>"
      ],
      "text/plain": [
       "          m2.price  construction.year      surface        floor     no.rooms\n",
       "count  1000.000000        1000.000000  1000.000000  1000.000000  1000.000000\n",
       "mean   3487.019000        1964.823000    85.590000     5.623000     3.360000\n",
       "std     906.691651          25.831511    37.874799     2.899876     1.381415\n",
       "min    1607.000000        1920.000000    20.000000     1.000000     1.000000\n",
       "25%    2857.000000        1943.000000    53.000000     3.000000     2.000000\n",
       "50%    3386.000000        1965.000000    85.500000     6.000000     3.000000\n",
       "75%    4018.250000        1988.000000   118.000000     8.000000     4.000000\n",
       "max    6595.000000        2010.000000   150.000000    10.000000     6.000000"
      ]
     },
     "execution_count": 4,
     "metadata": {},
     "output_type": "execute_result"
    }
   ],
   "source": [
    "apartments_df.describe()"
   ]
  },
  {
   "cell_type": "markdown",
   "metadata": {},
   "source": [
    "### Train-test split"
   ]
  },
  {
   "cell_type": "code",
   "execution_count": 39,
   "metadata": {},
   "outputs": [],
   "source": [
    "X_train, X_test, y_train, y_test = train_test_split(apartments_df.drop(\"m2.price\", axis=1), \n",
    "                                                    apartments_df[\"m2.price\"], \n",
    "                                                    test_size=0.3, shuffle=True, random_state=42)"
   ]
  },
  {
   "cell_type": "markdown",
   "metadata": {},
   "source": [
    "### Modeling"
   ]
  },
  {
   "cell_type": "code",
   "execution_count": 119,
   "metadata": {},
   "outputs": [],
   "source": [
    "def get_scores(clf, X_test, y_test):\n",
    "    y_pred = clf.predict(X_test)\n",
    "    return (r2_score(y_test, y_pred), mean_squared_error(y_test, y_pred, squared=False))\n",
    "\n",
    "def modeling(X_train, y_train, scale=True):\n",
    "    \n",
    "    params = dict({'clf__C': expon(scale = 100),\n",
    "              'clf__gamma': expon(scale = .1),\n",
    "              'clf__epsilon': expon(scale = 10)})\n",
    "    \n",
    "    ohe = OneHotEncoder(sparse=False)\n",
    "    columns_to_encode = [\"district\"]\n",
    "    \n",
    "    if scale:\n",
    "        scaler = StandardScaler()\n",
    "        columns_to_scale = list(filter(lambda x: x != \"district\", X_train.columns.to_list()))\n",
    "\n",
    "        pipeline = Pipeline(\n",
    "            [(\"coltransformer\", ColumnTransformer(\n",
    "                transformers=[\n",
    "                    (\"other\", Pipeline([(\"scale\", scaler)]), columns_to_scale),\n",
    "                    (\"district\", Pipeline([(\"encode\", ohe)]), columns_to_encode),\n",
    "                ]),\n",
    "            ),\n",
    "            (\"clf\", SVR(kernel=\"rbf\"))]\n",
    "        )\n",
    "        \n",
    "    else:\n",
    "        pipeline = Pipeline(\n",
    "            [(\"coltransformer\", ColumnTransformer(\n",
    "                transformers=[\n",
    "                    (\"district\", Pipeline([(\"encode\", ohe)]), columns_to_encode),\n",
    "                ]),\n",
    "            ),\n",
    "            (\"clf\", SVR(kernel=\"rbf\"))]\n",
    "        )\n",
    "    \n",
    "    random_search = RandomizedSearchCV(pipeline, params, random_state=0, n_jobs=-1)\n",
    "    random_search.fit(X_train, y_train)\n",
    "    \n",
    "    return random_search.best_estimator_\n",
    "        "
   ]
  },
  {
   "cell_type": "code",
   "execution_count": 130,
   "metadata": {},
   "outputs": [
    {
     "name": "stdout",
     "output_type": "stream",
     "text": [
      "SVM ze skalowaniem: r2: 0.95, rmse: 211.82\n"
     ]
    }
   ],
   "source": [
    "clf = modeling(X_train, y_train)\n",
    "scores = get_scores(clf, X_test, y_test)\n",
    "print(f\"SVM ze skalowaniem: r2: {scores[0]:.2f}, rmse: {scores[1]:.2f}\")"
   ]
  },
  {
   "cell_type": "code",
   "execution_count": 129,
   "metadata": {},
   "outputs": [
    {
     "name": "stdout",
     "output_type": "stream",
     "text": [
      "SVM bez skalowania: r2: 0.60, rmse: 574.11\n"
     ]
    }
   ],
   "source": [
    "clf = modeling(X_train, y_train, scale=False)\n",
    "get_scores(clf, X_test, y_test)\n",
    "scores = get_scores(clf, X_test, y_test)\n",
    "print(f\"SVM bez skalowania: r2: {scores[0]:.2f}, rmse: {scores[1]:.2f}\")"
   ]
  },
  {
   "cell_type": "markdown",
   "metadata": {},
   "source": [
    "## Australia dataset\n",
    "Tutaj będzie zadanie klasyfikacji: będzie deszcz następnego dnia czy nie. Jest to zbiór danych z poprzedniej pracy domowej, więc eskploracja już za nami. "
   ]
  },
  {
   "cell_type": "markdown",
   "metadata": {},
   "source": [
    "### Modeling"
   ]
  }
 ],
 "metadata": {
  "kernelspec": {
   "display_name": "Python 3",
   "language": "python",
   "name": "python3"
  },
  "language_info": {
   "codemirror_mode": {
    "name": "ipython",
    "version": 3
   },
   "file_extension": ".py",
   "mimetype": "text/x-python",
   "name": "python",
   "nbconvert_exporter": "python",
   "pygments_lexer": "ipython3",
   "version": "3.8.3"
  }
 },
 "nbformat": 4,
 "nbformat_minor": 4
}
